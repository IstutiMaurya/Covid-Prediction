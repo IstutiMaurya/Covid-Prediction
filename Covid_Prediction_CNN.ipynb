{
  "nbformat": 4,
  "nbformat_minor": 0,
  "metadata": {
    "colab": {
      "provenance": [],
      "gpuType": "T4"
    },
    "kernelspec": {
      "name": "python3",
      "display_name": "Python 3"
    },
    "language_info": {
      "name": "python"
    },
    "accelerator": "GPU"
  },
  "cells": [
    {
      "cell_type": "code",
      "execution_count": null,
      "metadata": {
        "id": "Eh7b_VA-7TTe",
        "colab": {
          "base_uri": "https://localhost:8080/"
        },
        "outputId": "71367c85-823e-4e0e-9f27-a4f90cc96271"
      },
      "outputs": [
        {
          "output_type": "stream",
          "name": "stdout",
          "text": [
            "Mounted at /content/drive/\n"
          ]
        }
      ],
      "source": [
        "from google.colab import drive\n",
        "drive.mount('/content/drive/')"
      ]
    },
    {
      "cell_type": "code",
      "source": [
        "from zipfile import ZipFile\n",
        "file_name = \"/content/drive/My Drive/CovidDataset.zip\"\n",
        "with ZipFile(file_name,'r') as zip:\n",
        "  zip.extractall()\n",
        "  print(\"Completed\")"
      ],
      "metadata": {
        "colab": {
          "base_uri": "https://localhost:8080/"
        },
        "id": "fPeQ_sTcZw5V",
        "outputId": "b6bfd840-5471-42f7-de73-7d03587ba70d"
      },
      "execution_count": null,
      "outputs": [
        {
          "output_type": "stream",
          "name": "stdout",
          "text": [
            "Completed\n"
          ]
        }
      ]
    },
    {
      "cell_type": "code",
      "source": [
        "from keras.layers import *\n",
        "from keras.models import *\n",
        "import keras as tf"
      ],
      "metadata": {
        "id": "ejKTa1NGbEsa"
      },
      "execution_count": null,
      "outputs": []
    },
    {
      "cell_type": "code",
      "source": [
        "#Training model\n",
        "model = Sequential()   ## creating a blank model\n",
        "model.add(Conv2D(32,kernel_size=(3,3),activation='relu',input_shape=(224,224,3)))\n",
        "model.add(MaxPooling2D(pool_size=(2,2)))\n",
        "\n",
        "model.add(Conv2D(64,(3,3),activation='relu'))\n",
        "model.add(MaxPooling2D(pool_size=(2,2)))\n",
        "model.add(Dropout(0.25))    ### reduce the overfitting\n",
        "\n",
        "model.add(Conv2D(64,(3,3),activation='relu'))\n",
        "model.add(MaxPooling2D(pool_size=(2,2)))\n",
        "model.add(Dropout(0.25))\n",
        "\n",
        "model.add(Conv2D(128,(3,3),activation='relu'))\n",
        "model.add(MaxPooling2D(pool_size=(2,2)))\n",
        "model.add(Dropout(0.25))\n",
        "\n",
        "model.add(Flatten())    ### input layer\n",
        "model.add(Dense(64,activation='relu'))    ## hidden layer of ann\n",
        "model.add(Dropout(0.5))\n",
        "model.add(Dense(1,activation='sigmoid'))   ## output layer\n",
        "\n",
        "model.compile(loss='binary_crossentropy',optimizer='adam',metrics=['accuracy'])"
      ],
      "metadata": {
        "id": "2IP43u0pdAH_"
      },
      "execution_count": null,
      "outputs": []
    },
    {
      "cell_type": "code",
      "source": [
        "#Moulding train images (increasing data set)(data augmentation)\n",
        "from tensorflow.keras.preprocessing import image\n",
        "train_datagen = image.ImageDataGenerator(rescale = 1./255, shear_range = 0.2,\n",
        "                                         zoom_range = 0.2,\n",
        "                                         horizontal_flip = True)\n",
        "\n",
        "test_dataset = image.ImageDataGenerator(rescale=1./255)"
      ],
      "metadata": {
        "id": "jxLOXyKwfS3p"
      },
      "execution_count": null,
      "outputs": []
    },
    {
      "cell_type": "code",
      "source": [
        "#Reshaping test and validation images\n",
        "train_generator = train_datagen.flow_from_directory(\n",
        "    '/content/CovidDataset/Train',\n",
        "    target_size = (224,224),\n",
        "    batch_size = 32,\n",
        "    class_mode = 'binary')\n",
        "validation_generator = test_dataset.flow_from_directory(\n",
        "    '/content/CovidDataset/Val',\n",
        "    target_size = (224,224),\n",
        "    batch_size = 32,\n",
        "    class_mode = 'binary')"
      ],
      "metadata": {
        "colab": {
          "base_uri": "https://localhost:8080/"
        },
        "id": "IAe2Iz_dj67B",
        "outputId": "6dc2b260-6977-47bf-907f-a55443cf8001"
      },
      "execution_count": null,
      "outputs": [
        {
          "output_type": "stream",
          "name": "stdout",
          "text": [
            "Found 224 images belonging to 2 classes.\n",
            "Found 60 images belonging to 2 classes.\n"
          ]
        }
      ]
    },
    {
      "cell_type": "code",
      "source": [
        "#### Train the model\n",
        "history = model.fit(\n",
        "    train_generator,\n",
        "    steps_per_epoch=7,\n",
        "    epochs = 50,\n",
        "    validation_data = validation_generator,\n",
        "    validation_steps=1\n",
        ")"
      ],
      "metadata": {
        "colab": {
          "base_uri": "https://localhost:8080/"
        },
        "id": "ebACAPR7j-0z",
        "outputId": "c24f647d-348f-4b6c-b740-5191bf86455e"
      },
      "execution_count": null,
      "outputs": [
        {
          "output_type": "stream",
          "name": "stdout",
          "text": [
            "Epoch 1/50\n",
            "7/7 [==============================] - 17s 3s/step - loss: 0.2351 - accuracy: 0.8750 - val_loss: 0.0457 - val_accuracy: 1.0000\n",
            "Epoch 2/50\n",
            "7/7 [==============================] - 11s 2s/step - loss: 0.2297 - accuracy: 0.8750 - val_loss: 0.0273 - val_accuracy: 1.0000\n",
            "Epoch 3/50\n",
            "7/7 [==============================] - 11s 1s/step - loss: 0.2080 - accuracy: 0.9062 - val_loss: 0.0539 - val_accuracy: 1.0000\n",
            "Epoch 4/50\n",
            "7/7 [==============================] - 11s 2s/step - loss: 0.2349 - accuracy: 0.9152 - val_loss: 0.0371 - val_accuracy: 1.0000\n",
            "Epoch 5/50\n",
            "7/7 [==============================] - 11s 2s/step - loss: 0.2072 - accuracy: 0.8973 - val_loss: 0.1087 - val_accuracy: 0.9375\n",
            "Epoch 6/50\n",
            "7/7 [==============================] - 10s 1s/step - loss: 0.1482 - accuracy: 0.9196 - val_loss: 0.0665 - val_accuracy: 0.9688\n",
            "Epoch 7/50\n",
            "7/7 [==============================] - 11s 2s/step - loss: 0.1368 - accuracy: 0.9375 - val_loss: 0.1278 - val_accuracy: 0.9375\n",
            "Epoch 8/50\n",
            "7/7 [==============================] - 11s 2s/step - loss: 0.1604 - accuracy: 0.9464 - val_loss: 0.0234 - val_accuracy: 1.0000\n",
            "Epoch 9/50\n",
            "7/7 [==============================] - 11s 2s/step - loss: 0.1480 - accuracy: 0.9464 - val_loss: 0.0112 - val_accuracy: 1.0000\n",
            "Epoch 10/50\n",
            "7/7 [==============================] - 10s 2s/step - loss: 0.1010 - accuracy: 0.9464 - val_loss: 0.0459 - val_accuracy: 0.9688\n",
            "Epoch 11/50\n",
            "7/7 [==============================] - 13s 2s/step - loss: 0.1062 - accuracy: 0.9420 - val_loss: 0.0507 - val_accuracy: 0.9688\n",
            "Epoch 12/50\n",
            "7/7 [==============================] - 11s 2s/step - loss: 0.1351 - accuracy: 0.9598 - val_loss: 0.0702 - val_accuracy: 0.9688\n",
            "Epoch 13/50\n",
            "7/7 [==============================] - 10s 1s/step - loss: 0.1260 - accuracy: 0.9420 - val_loss: 0.0326 - val_accuracy: 0.9688\n",
            "Epoch 14/50\n",
            "7/7 [==============================] - 10s 1s/step - loss: 0.1747 - accuracy: 0.9330 - val_loss: 0.1748 - val_accuracy: 0.9375\n",
            "Epoch 15/50\n",
            "7/7 [==============================] - 11s 2s/step - loss: 0.1861 - accuracy: 0.9286 - val_loss: 0.0916 - val_accuracy: 0.9375\n",
            "Epoch 16/50\n",
            "7/7 [==============================] - 11s 2s/step - loss: 0.1382 - accuracy: 0.9598 - val_loss: 0.0220 - val_accuracy: 1.0000\n",
            "Epoch 17/50\n",
            "7/7 [==============================] - 10s 2s/step - loss: 0.1268 - accuracy: 0.9554 - val_loss: 0.0355 - val_accuracy: 1.0000\n",
            "Epoch 18/50\n",
            "7/7 [==============================] - 11s 2s/step - loss: 0.1323 - accuracy: 0.9598 - val_loss: 0.2039 - val_accuracy: 0.9375\n",
            "Epoch 19/50\n",
            "7/7 [==============================] - 11s 2s/step - loss: 0.1531 - accuracy: 0.9330 - val_loss: 0.0475 - val_accuracy: 1.0000\n",
            "Epoch 20/50\n",
            "7/7 [==============================] - 10s 2s/step - loss: 0.1556 - accuracy: 0.9330 - val_loss: 0.0609 - val_accuracy: 1.0000\n",
            "Epoch 21/50\n",
            "7/7 [==============================] - 10s 1s/step - loss: 0.1200 - accuracy: 0.9330 - val_loss: 0.0428 - val_accuracy: 0.9688\n",
            "Epoch 22/50\n",
            "7/7 [==============================] - 11s 2s/step - loss: 0.1145 - accuracy: 0.9330 - val_loss: 0.0020 - val_accuracy: 1.0000\n",
            "Epoch 23/50\n",
            "7/7 [==============================] - 11s 2s/step - loss: 0.0942 - accuracy: 0.9509 - val_loss: 0.0836 - val_accuracy: 0.9688\n",
            "Epoch 24/50\n",
            "7/7 [==============================] - 10s 1s/step - loss: 0.0719 - accuracy: 0.9598 - val_loss: 0.1559 - val_accuracy: 0.9375\n",
            "Epoch 25/50\n",
            "7/7 [==============================] - 10s 1s/step - loss: 0.0657 - accuracy: 0.9777 - val_loss: 0.1693 - val_accuracy: 0.9375\n",
            "Epoch 26/50\n",
            "7/7 [==============================] - 11s 2s/step - loss: 0.0781 - accuracy: 0.9509 - val_loss: 0.0779 - val_accuracy: 0.9688\n",
            "Epoch 27/50\n",
            "7/7 [==============================] - 11s 2s/step - loss: 0.1043 - accuracy: 0.9732 - val_loss: 0.0328 - val_accuracy: 0.9688\n",
            "Epoch 28/50\n",
            "7/7 [==============================] - 10s 1s/step - loss: 0.0978 - accuracy: 0.9554 - val_loss: 0.0695 - val_accuracy: 0.9375\n",
            "Epoch 29/50\n",
            "7/7 [==============================] - 10s 1s/step - loss: 0.1135 - accuracy: 0.9509 - val_loss: 0.0696 - val_accuracy: 0.9688\n",
            "Epoch 30/50\n",
            "7/7 [==============================] - 11s 2s/step - loss: 0.1267 - accuracy: 0.9286 - val_loss: 0.0961 - val_accuracy: 0.9375\n",
            "Epoch 31/50\n",
            "7/7 [==============================] - 11s 2s/step - loss: 0.0693 - accuracy: 0.9554 - val_loss: 0.0947 - val_accuracy: 0.9375\n",
            "Epoch 32/50\n",
            "7/7 [==============================] - 10s 2s/step - loss: 0.0956 - accuracy: 0.9420 - val_loss: 0.1490 - val_accuracy: 0.9375\n",
            "Epoch 33/50\n",
            "7/7 [==============================] - 11s 2s/step - loss: 0.1234 - accuracy: 0.9509 - val_loss: 0.0647 - val_accuracy: 0.9688\n",
            "Epoch 34/50\n",
            "7/7 [==============================] - 12s 2s/step - loss: 0.0746 - accuracy: 0.9732 - val_loss: 0.1322 - val_accuracy: 0.9375\n",
            "Epoch 35/50\n",
            "7/7 [==============================] - 11s 2s/step - loss: 0.0720 - accuracy: 0.9598 - val_loss: 0.0687 - val_accuracy: 0.9688\n",
            "Epoch 36/50\n",
            "7/7 [==============================] - 10s 1s/step - loss: 0.0688 - accuracy: 0.9688 - val_loss: 0.0550 - val_accuracy: 0.9688\n",
            "Epoch 37/50\n",
            "7/7 [==============================] - 11s 2s/step - loss: 0.0740 - accuracy: 0.9554 - val_loss: 0.0717 - val_accuracy: 0.9688\n",
            "Epoch 38/50\n",
            "7/7 [==============================] - 11s 2s/step - loss: 0.0600 - accuracy: 0.9777 - val_loss: 0.0919 - val_accuracy: 0.9375\n",
            "Epoch 39/50\n",
            "7/7 [==============================] - 10s 2s/step - loss: 0.0670 - accuracy: 0.9509 - val_loss: 0.0048 - val_accuracy: 1.0000\n",
            "Epoch 40/50\n",
            "7/7 [==============================] - 10s 1s/step - loss: 0.0940 - accuracy: 0.9554 - val_loss: 0.1757 - val_accuracy: 0.9375\n",
            "Epoch 41/50\n",
            "7/7 [==============================] - 11s 2s/step - loss: 0.0580 - accuracy: 0.9688 - val_loss: 0.1259 - val_accuracy: 0.9375\n",
            "Epoch 42/50\n",
            "7/7 [==============================] - 11s 2s/step - loss: 0.1622 - accuracy: 0.9688 - val_loss: 0.0214 - val_accuracy: 1.0000\n",
            "Epoch 43/50\n",
            "7/7 [==============================] - 11s 2s/step - loss: 0.1866 - accuracy: 0.8973 - val_loss: 0.1262 - val_accuracy: 0.9375\n",
            "Epoch 44/50\n",
            "7/7 [==============================] - 11s 2s/step - loss: 0.1921 - accuracy: 0.9152 - val_loss: 0.1482 - val_accuracy: 0.9375\n",
            "Epoch 45/50\n",
            "7/7 [==============================] - 11s 2s/step - loss: 0.1905 - accuracy: 0.8795 - val_loss: 0.1162 - val_accuracy: 0.9688\n",
            "Epoch 46/50\n",
            "7/7 [==============================] - 9s 1s/step - loss: 0.2120 - accuracy: 0.8795 - val_loss: 0.0797 - val_accuracy: 0.9688\n",
            "Epoch 47/50\n",
            "7/7 [==============================] - 10s 1s/step - loss: 0.1726 - accuracy: 0.8795 - val_loss: 0.0081 - val_accuracy: 1.0000\n",
            "Epoch 48/50\n",
            "7/7 [==============================] - 11s 2s/step - loss: 0.2197 - accuracy: 0.8795 - val_loss: 0.0990 - val_accuracy: 0.9688\n",
            "Epoch 49/50\n",
            "7/7 [==============================] - 11s 2s/step - loss: 0.3319 - accuracy: 0.8795 - val_loss: 0.0716 - val_accuracy: 0.9688\n",
            "Epoch 50/50\n",
            "7/7 [==============================] - 10s 2s/step - loss: 0.2153 - accuracy: 0.8661 - val_loss: 0.0910 - val_accuracy: 0.9688\n"
          ]
        }
      ]
    },
    {
      "cell_type": "code",
      "source": [
        "## Test a new sample\n",
        "from keras.preprocessing import image\n",
        "import keras.utils as image\n",
        "import numpy as np\n",
        "img = image.load_img('/content/CovidPositiveXRays.jpg', target_size=(224,224))\n",
        "img\n",
        "img = image.img_to_array(img)\n",
        "img = img/255 # normalization\n",
        "img = np.expand_dims(img,axis=0)\n",
        "ypred= model.predict(img).round()\n",
        "ypred"
      ],
      "metadata": {
        "colab": {
          "base_uri": "https://localhost:8080/"
        },
        "id": "yeCEfYEPkDVX",
        "outputId": "1e98449a-1604-4ca6-b4f9-871ed31da6d4"
      },
      "execution_count": null,
      "outputs": [
        {
          "output_type": "stream",
          "name": "stdout",
          "text": [
            "1/1 [==============================] - 0s 19ms/step\n"
          ]
        },
        {
          "output_type": "execute_result",
          "data": {
            "text/plain": [
              "array([[0.]], dtype=float32)"
            ]
          },
          "metadata": {},
          "execution_count": 15
        }
      ]
    },
    {
      "cell_type": "code",
      "source": [
        "if ypred[0][0]==1:\n",
        "  print (\"Covid Negative\")\n",
        "else:\n",
        "  print(\"Covid Positive\")"
      ],
      "metadata": {
        "colab": {
          "base_uri": "https://localhost:8080/"
        },
        "id": "46nXymkczEHb",
        "outputId": "c5a75dce-69d1-4863-9c39-574a02f054f0"
      },
      "execution_count": null,
      "outputs": [
        {
          "output_type": "stream",
          "name": "stdout",
          "text": [
            "Covid Positive\n"
          ]
        }
      ]
    },
    {
      "cell_type": "code",
      "source": [],
      "metadata": {
        "id": "vuXnRrYU51Ss"
      },
      "execution_count": null,
      "outputs": []
    }
  ]
}